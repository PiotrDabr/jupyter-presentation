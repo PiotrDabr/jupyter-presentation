{
 "cells": [
  {
   "cell_type": "markdown",
   "metadata": {},
   "source": [
    "## Load molecule"
   ]
  },
  {
   "cell_type": "code",
   "execution_count": 1,
   "metadata": {
    "collapsed": false
   },
   "outputs": [
    {
     "name": "stdout",
     "output_type": "stream",
     "text": [
      "zinc_19318821.mol2\r\n"
     ]
    }
   ],
   "source": [
    "!ls *.mol2"
   ]
  },
  {
   "cell_type": "code",
   "execution_count": 2,
   "metadata": {
    "collapsed": false
   },
   "outputs": [
    {
     "data": {
      "text/plain": [
       "<rdkit.Chem.rdchem.Mol at 0x7f19f2b200c0>"
      ]
     },
     "execution_count": 2,
     "metadata": {},
     "output_type": "execute_result"
    }
   ],
   "source": [
    "from rdkit import Chem\n",
    "mol = Chem.MolFromMol2File('zinc_19318821.mol2')\n",
    "mol"
   ]
  },
  {
   "cell_type": "code",
   "execution_count": 3,
   "metadata": {
    "collapsed": false
   },
   "outputs": [
    {
     "name": "stdout",
     "output_type": "stream",
     "text": [
      "atoms count: 14\n"
     ]
    }
   ],
   "source": [
    "print('atoms count: {}'.format(len(mol.GetAtoms())))"
   ]
  },
  {
   "cell_type": "code",
   "execution_count": 4,
   "metadata": {
    "collapsed": false
   },
   "outputs": [
    {
     "data": {
      "text/plain": [
       "'C, C, N, C, C, N, O, O, N, O, O, N, O, O'"
      ]
     },
     "execution_count": 4,
     "metadata": {},
     "output_type": "execute_result"
    }
   ],
   "source": [
    "', '.join(atom.GetSymbol() for atom in mol.GetAtoms())"
   ]
  },
  {
   "cell_type": "code",
   "execution_count": 5,
   "metadata": {
    "collapsed": false
   },
   "outputs": [
    {
     "name": "stdout",
     "output_type": "stream",
     "text": [
      "atoms: C N, type: SINGLE, is in ring: True\n",
      "atoms: C C, type: SINGLE, is in ring: True\n",
      "atoms: C O, type: SINGLE, is in ring: False\n",
      "atoms: C N, type: SINGLE, is in ring: True\n",
      "atoms: C O, type: SINGLE, is in ring: False\n",
      "atoms: N C, type: SINGLE, is in ring: True\n",
      "atoms: C C, type: DOUBLE, is in ring: False\n",
      "atoms: C N, type: SINGLE, is in ring: True\n",
      "atoms: C N, type: SINGLE, is in ring: False\n",
      "atoms: C N, type: SINGLE, is in ring: False\n",
      "atoms: N O, type: DOUBLE, is in ring: False\n",
      "atoms: N O, type: SINGLE, is in ring: False\n",
      "atoms: N O, type: DOUBLE, is in ring: False\n",
      "atoms: N O, type: SINGLE, is in ring: False\n"
     ]
    }
   ],
   "source": [
    "for bond in mol.GetBonds():\n",
    "    print('atoms: {} {}, type: {}, is in ring: {}'.format(\n",
    "            bond.GetBeginAtom().GetSymbol(), bond.GetEndAtom().GetSymbol(), bond.GetBondType(), bond.IsInRing()))"
   ]
  },
  {
   "cell_type": "markdown",
   "metadata": {},
   "source": [
    "## Visualize molecule"
   ]
  },
  {
   "cell_type": "code",
   "execution_count": 6,
   "metadata": {
    "collapsed": false
   },
   "outputs": [
    {
     "data": {
      "image/png": "[encoded data removed]",
      "text/plain": [
       "<rdkit.Chem.rdchem.Mol at 0x7f19f2b200c0>"
      ]
     },
     "execution_count": 6,
     "metadata": {},
     "output_type": "execute_result"
    }
   ],
   "source": [
    "from rdkit.Chem.Draw import IPythonConsole\n",
    "mol"
   ]
  },
  {
   "cell_type": "markdown",
   "metadata": {},
   "source": [
    "## Morgan fingerprints"
   ]
  },
  {
   "cell_type": "code",
   "execution_count": 7,
   "metadata": {
    "collapsed": false
   },
   "outputs": [
    {
     "data": {
      "text/plain": [
       "'1100000010010001001001100110001001101010000000000000001100000010001100000011010000000001001001010000'"
      ]
     },
     "execution_count": 7,
     "metadata": {},
     "output_type": "execute_result"
    }
   ],
   "source": [
    "from rdkit.Chem import AllChem\n",
    "ecfp = AllChem.GetMorganFingerprintAsBitVect(mol, radius=4, nBits=100).ToBitString()\n",
    "ecfp"
   ]
  },
  {
   "cell_type": "markdown",
   "metadata": {},
   "source": [
    "## Molecule representations"
   ]
  },
  {
   "cell_type": "code",
   "execution_count": 8,
   "metadata": {
    "collapsed": false
   },
   "outputs": [
    {
     "name": "stdout",
     "output_type": "stream",
     "text": [
      "Help on built-in function MolToSmiles in module rdkit.Chem.rdmolfiles:\n",
      "\n",
      "MolToSmiles(...)\n",
      "    MolToSmiles( (Mol)mol [, (bool)isomericSmiles=False [, (bool)kekuleSmiles=False [, (int)rootedAtAtom=-1 [, (bool)canonical=True [, (bool)allBondsExplicit=False [, (bool)allHsExplicit=False]]]]]]) -> str :\n",
      "        Returns the canonical SMILES string for a molecule\n",
      "          ARGUMENTS:\n",
      "        \n",
      "            - mol: the molecule\n",
      "            - isomericSmiles: (optional) include information about stereochemistry in\n",
      "              the SMILES.  Defaults to false.\n",
      "            - kekuleSmiles: (optional) use the Kekule form (no aromatic bonds) in\n",
      "              the SMILES.  Defaults to false.\n",
      "            - rootedAtAtom: (optional) if non-negative, this forces the SMILES \n",
      "              to start at a particular atom. Defaults to -1.\n",
      "            - canonical: (optional) if false no attempt will be made to canonicalize\n",
      "              the molecule. Defaults to true.\n",
      "            - allBondsExplicit: (optional) if true, all bond orders will be explicitly indicated\n",
      "              in the output SMILES. Defaults to false.\n",
      "            - allHsExplicit: (optional) if true, all H counts will be explicitly indicated\n",
      "              in the output SMILES. Defaults to false.\n",
      "        \n",
      "          RETURNS:\n",
      "        \n",
      "            a string\n",
      "        \n",
      "        \n",
      "    \n",
      "        C++ signature :\n",
      "            std::string MolToSmiles(RDKit::ROMol [,bool=False [,bool=False [,int=-1 [,bool=True [,bool=False [,bool=False]]]]]])\n",
      "\n"
     ]
    }
   ],
   "source": [
    "help(Chem.MolToSmiles)"
   ]
  },
  {
   "cell_type": "code",
   "execution_count": 9,
   "metadata": {
    "collapsed": false
   },
   "outputs": [
    {
     "data": {
      "text/plain": [
       "'O=[N+]([O-])C(=C1NC(O)C([O-])[NH2+]1)[N+](=O)[O-]'"
      ]
     },
     "execution_count": 9,
     "metadata": {},
     "output_type": "execute_result"
    }
   ],
   "source": [
    "Chem.MolToSmiles(mol)"
   ]
  },
  {
   "cell_type": "code",
   "execution_count": 10,
   "metadata": {
    "collapsed": false
   },
   "outputs": [
    {
     "data": {
      "text/plain": [
       "'C1(O)C([O-])[NH2+]C(=C([N+](=O)[O-])[N+](=O)[O-])N1'"
      ]
     },
     "execution_count": 10,
     "metadata": {},
     "output_type": "execute_result"
    }
   ],
   "source": [
    "Chem.MolToSmiles(mol, canonical=False)"
   ]
  },
  {
   "cell_type": "code",
   "execution_count": 11,
   "metadata": {
    "collapsed": false
   },
   "outputs": [
    {
     "name": "stdout",
     "output_type": "stream",
     "text": [
      "ZINC19318821\n",
      "     RDKit          3D\n",
      "\n",
      " 14 14  0  0  0  0  0  0  0  0999 V2000\n",
      "    0.6127    3.2679    0.0132 C   0  0  2  0  0  0  0  0  0  0  0  0\n",
      "    1.1726    1.8353    0.0007 C   0  0  2  0  0  0  0  0  0  0  0  0\n",
      "   -0.0111    0.9658    0.0074 N   0  0  0  0  0  0  0  0  0  0  0  0\n",
      "   -1.1477    1.7541    0.0164 C   0  0  0  0  0  0  0  0  0  0  0  0\n",
      "   -2.3872    1.2697    0.0187 C   0  0  0  0  0  0  0  0  0  0  0  0\n",
      "   -3.5436    2.1945    0.0286 N   0  0  0  0  0  0  0  0  0  0  0  0\n",
      "   -3.3603    3.3987    0.0346 O   0  0  0  0  0  0  0  0  0  0  0  0\n",
      "   -4.6780    1.7512    0.0306 O   0  0  0  0  0  0  0  0  0  0  0  0\n",
      "   -2.6100   -0.1943    0.0113 N   0  0  0  0  0  0  0  0  0  0  0  0\n",
      "   -1.6588   -0.9550    0.0032 O   0  0  0  0  0  0  0  0  0  0  0  0\n",
      "   -3.7444   -0.6377    0.0134 O   0  0  0  0  0  0  0  0  0  0  0  0\n",
      "   -0.8468    3.1042    0.0260 N   0  0  0  0  0  0  0  0  0  0  0  0\n",
      "    1.9668    1.6021    1.1656 O   0  0  0  0  0  0  0  0  0  0  0  0\n",
      "    1.0255    3.9728   -1.1593 O   0  0  0  0  0  0  0  0  0  0  0  0\n",
      "  1 12  1  0\n",
      "  1  2  1  0\n",
      "  1 14  1  6\n",
      "  2  3  1  0\n",
      "  2 13  1  1\n",
      "  3  4  1  0\n",
      "  4  5  2  0\n",
      "  4 12  1  0\n",
      "  5  6  1  0\n",
      "  5  9  1  0\n",
      "  6  7  2  0\n",
      "  6  8  1  0\n",
      "  9 10  2  0\n",
      "  9 11  1  0\n",
      "M  CHG  6   3   1   6   1   8  -1   9   1  11  -1  13  -1\n",
      "M  END\n"
     ]
    }
   ],
   "source": [
    "for line in Chem.MolToMolBlock(mol).splitlines():\n",
    "    print(line)"
   ]
  },
  {
   "cell_type": "markdown",
   "metadata": {},
   "source": [
    "## See more"
   ]
  },
  {
   "cell_type": "markdown",
   "metadata": {},
   "source": [
    "https://github.com/rdkit/UGM_2015/tree/master/Notebooks"
   ]
  }
 ],
 "metadata": {
  "anaconda-cloud": {},
  "kernelspec": {
   "display_name": "Python [conda env:jupyter]",
   "language": "python",
   "name": "conda-env-jupyter-py"
  },
  "language_info": {
   "codemirror_mode": {
    "name": "ipython",
    "version": 2
   },
   "file_extension": ".py",
   "mimetype": "text/x-python",
   "name": "python",
   "nbconvert_exporter": "python",
   "pygments_lexer": "ipython2",
   "version": "2.7.12"
  }
 },
 "nbformat": 4,
 "nbformat_minor": 1
}
